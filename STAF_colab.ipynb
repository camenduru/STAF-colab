{
  "cells": [
    {
      "cell_type": "markdown",
      "metadata": {
        "id": "view-in-github"
      },
      "source": [
        "[![Open In Colab](https://colab.research.google.com/assets/colab-badge.svg)](https://colab.research.google.com/github/camenduru/STAF-colab/blob/main/STAF_colab.ipynb)"
      ]
    },
    {
      "cell_type": "code",
      "execution_count": null,
      "metadata": {
        "id": "VjYy0F2gZIPR"
      },
      "outputs": [],
      "source": [
        "%cd /content\n",
        "!git clone -b dev https://github.com/camenduru/STAF\n",
        "%cd /content/STAF\n",
        "\n",
        "!apt -y install -qq aria2 xvfb\n",
        "!aria2c --console-log-level=error -c -x 16 -s 16 -k 1M https://huggingface.co/camenduru/STAF/resolve/main/3dpw_model_best.pth.tar -d /content/STAF/data/base_data -o 3dpw_model_best.pth.tar\n",
        "!aria2c --console-log-level=error -c -x 16 -s 16 -k 1M https://huggingface.co/camenduru/STAF/resolve/main/J_regressor_extra.npy -d /content/STAF/data/base_data -o J_regressor_extra.npy\n",
        "!aria2c --console-log-level=error -c -x 16 -s 16 -k 1M https://huggingface.co/camenduru/STAF/resolve/main/J_regressor_h36m.npy -d /content/STAF/data/base_data -o J_regressor_h36m.npy\n",
        "!aria2c --console-log-level=error -c -x 16 -s 16 -k 1M https://huggingface.co/camenduru/STAF/resolve/main/SMPL_FEMALE.pkl -d /content/STAF/data/base_data -o SMPL_FEMALE.pkl\n",
        "!aria2c --console-log-level=error -c -x 16 -s 16 -k 1M https://huggingface.co/camenduru/STAF/resolve/main/SMPL_MALE.pkl -d /content/STAF/data/base_data -o SMPL_MALE.pkl\n",
        "!aria2c --console-log-level=error -c -x 16 -s 16 -k 1M https://huggingface.co/camenduru/STAF/resolve/main/SMPL_NEUTRAL.pkl -d /content/STAF/data/base_data -o SMPL_NEUTRAL.pkl\n",
        "!aria2c --console-log-level=error -c -x 16 -s 16 -k 1M https://huggingface.co/camenduru/STAF/resolve/main/base_model.pt -d /content/STAF/data/base_data -o base_model.pt\n",
        "!aria2c --console-log-level=error -c -x 16 -s 16 -k 1M https://huggingface.co/camenduru/STAF/resolve/main/mesh_downsampling.npz -d /content/STAF/data/base_data -o mesh_downsampling.npz\n",
        "!aria2c --console-log-level=error -c -x 16 -s 16 -k 1M https://huggingface.co/camenduru/STAF/resolve/main/smpl_mean_params.npz -d /content/STAF/data/base_data -o smpl_mean_params.npz\n",
        "!aria2c --console-log-level=error -c -x 16 -s 16 -k 1M https://huggingface.co/camenduru/STAF/resolve/main/spin_model_checkpoint.pth.tar -d /content/STAF/data/base_data -o spin_model_checkpoint.pth.tar\n",
        "!aria2c --console-log-level=error -c -x 16 -s 16 -k 1M https://huggingface.co/camenduru/STAF/resolve/main/yolov3.weights -d /content/STAF/data/base_data -o yolov3.weights\n",
        "\n",
        "!pip install -q yacs smplx trimesh pyrender progress filterpy scikit-video\n",
        "!pip install -q git+https://github.com/mattloper/chumpy\n",
        "!pip install -q git+https://github.com/mkocabas/yolov3-pytorch\n",
        "!pip install -q git+https://github.com/mkocabas/multi-person-tracker\n",
        "!pip install -q git+https://github.com/giacaglia/pytube"
      ]
    },
    {
      "cell_type": "code",
      "execution_count": null,
      "metadata": {},
      "outputs": [],
      "source": [
        "!rm -rf /content/STAF/output\n",
        "!xvfb-run python demo.py --vid_file demo_video.mp4 --gpu 0 --display"
      ]
    }
  ],
  "metadata": {
    "accelerator": "GPU",
    "colab": {
      "gpuType": "T4",
      "provenance": []
    },
    "kernelspec": {
      "display_name": "Python 3",
      "name": "python3"
    },
    "language_info": {
      "name": "python"
    }
  },
  "nbformat": 4,
  "nbformat_minor": 0
}
